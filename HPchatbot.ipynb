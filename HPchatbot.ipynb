{
 "cells": [
  {
   "cell_type": "code",
   "execution_count": 1,
   "metadata": {},
   "outputs": [],
   "source": [
    "import json\n",
    "from datetime import datetime\n",
    "import PyPDF2\n",
    "from nltk.stem import PorterStemmer \n",
    "from nltk.tokenize import word_tokenize \n",
    "\n",
    "import os\n",
    "import re \n",
    "import math\n",
    "import operator\n",
    "import requests\n",
    "\n",
    "from bs4 import BeautifulSoup as soup\n",
    "from bs4.element import Comment\n",
    "\n",
    "from nltk.corpus import stopwords\n",
    "from nltk.tokenize import word_tokenize\n",
    "\n",
    "from collections import Counter\n",
    "from pprint import pprint"
   ]
  },
  {
   "cell_type": "code",
   "execution_count": 2,
   "metadata": {},
   "outputs": [],
   "source": [
    "pdf_file = open('FAQs.pdf', 'rb')\n",
    "read_pdf = PyPDF2.PdfFileReader(pdf_file)\n",
    "number_of_pages = read_pdf.getNumPages()"
   ]
  },
  {
   "cell_type": "code",
   "execution_count": 3,
   "metadata": {},
   "outputs": [],
   "source": [
    "questions = []\n",
    "answers = []\n",
    "for i in range(3, number_of_pages-1):\n",
    "    page = read_pdf.getPage(i)\n",
    "    page_content = page.extractText()\n",
    "    \n",
    "    while page_content.find('Q.')!=-1:\n",
    "        question = page_content[page_content.find(' Q.')+4:page_content.find('A.')]\n",
    "        questions.append(question.replace('\\n',''))\n",
    "        page_content = page_content[page_content.find('A.'):]\n",
    "        answer = page_content[page_content.find('A.')+4:page_content.find('Q.')]\n",
    "        answers.append(answer.replace('\\n',''))\n",
    "        page_content = page_content[page_content.find('A.')+4:]"
   ]
  },
  {
   "cell_type": "code",
   "execution_count": 4,
   "metadata": {
    "scrolled": true
   },
   "outputs": [
    {
     "name": "stdout",
     "output_type": "stream",
     "text": [
      "['What are the advantages of HPE OneView? ', 'What is a software-defined approach to lifecycle management? ', 'Can I customize functionality and integrate HPE OneView with my existing tools and environment? ', 'Does HPE provide integration kits for customers who do not wish to develop their own? ', 'Is HPE OneView a refresh to existing HPE infrastructure management tools or a brand-new design? ', 'What capabilities does HPE OneView offer? ', 'How is HPE OneView licensed? ', 'What server platforms are supported by HPE OneView 5.0? ', 'Can I create a template from an existing profile? ', 'Does HPE OneView support granular access control? ', 'What is two-factor authentication and is it supported by HPE OneView? ', 'What is an SPP? ', 'Does HPE OneView use SPPs to update the firmware and driver of servers? ', 'Does HPE OneView support external repository to store SPPs? ', 'Can you schedule the activation of firmware and OS driver updates? ', 'Does HPE OneView allow online profile configuration changes? ', 'What tools HPE OneView use for Firmware and Driver updates? ', 'How does HPE OneView handle Firmware and Driver updates? ', 'Does HPE OneView support configuration of iLO settings? ', 'What are the latest enhancements with HPE OneView Remote support? ', 'What kind of cluster profile support is offered by HPE OneView? ', 'Can I view DIMM inventory with HPE OneView? ', 'Does HPE OneView support IPv6? ', 'Does HPE OneView provide firmware compliance checking? ', 'Does HPE OneView support HPE 3PAR StoreServ? ', 'Does HPE OneView support HPE Nimble Storage? ', 'If Flat SAN is used, can you see FC bandwidth usage data? ', 'What is the HPE OneView support for Brocade FC ICM? ', 'What can I use for Brocade SAN automated zoning with BNA support going away? ', 'Does HPE OneView support automated volume provisioning? ', 'Does HPE OneView support HPE StoreVirtual 3200 series? ', 'Does HPE OneView support StoreVirtual managed nodes? ', 'Does HPE OneView support automated SAN Storage volume provisioning for DL/Apollo Servers? ', 'Does HPE OneView support Brocade SAN storage? ', 'Can I do a migration from the Virtual Connect Manager to an HPE OneView environment without the need to power off servers? ', 'How many FlexNIC/FlexHBA per port does the FlexFabric support in HPE OneView? ', 'What is the integration with the IMC tool? ', 'Does HPE OneView support the B22HP FEX interconnect modules? ', 'Does HPE OneView support the LACP on s-channels? ', 'What is an Active/Active configuration? ', 'How does HPE OneView work with HPE switches? What can be done today in terms of management and configuration? ', 'Can HPE OneView manage the external top-of-rack Cisco (ToR) switch? ', 'Can HPE OneView manage the external top-of-rack Arista (ToR) switch? ', 'What is HPE Composable Ecosystem Program? ', 'What Microsoft plug-ins are in the HPE OneView Advanced 5.0 release? ', 'What VMware plug-ins are in the HPE OneView Advanced 5.0 release? ', 'How are the partner integrations licensed for VMware and Microsoft? ', 'How is HPE OneView delivered? ', 'Does HPE OneView replace the need for HPE Systems Insight Manager, HPE Insight Control, and HPE Virtual Connect Enterprise Manager? ', 'How long will Hewlett Packard Enterprise support the current HPE SIM, product? ', 'Are license upgrades available from Insight Management software to HPE OneView Advanced? ', 'What support and services are available for HPE OneView? ', 'How do I get training on HPE OneView? ', 'Can a user access inventory and health status information consolidated by HPE OneView Global Dashboard using an API? ', 'How does HPE OneView Global Dashboard help customers manage at scale? ', 'What systems does HPE Global Dashboard support? ', 'How is HPE OneView Global Dashboard delivered? ', 'Can I schedule an HPE OneView Global Dashboard report? ', 'How can I track the assignment of HPE OneView licensed across my data centers? ', 'Does HPE OneView Global Dashboard support IPv6? ', 'Does HPE OneView Global Dashboard support interconnect modules? ', 'Does HPE OneView Global Dashboard display remote support status? ', 'Does Remote Technician require Remote Support? ', 'Is there a charge for Remote Technician? ', 'Is a support case required for Remote Technician? ', 'Do I need to add firewall rules? ', 'Can I time-box access? Does it time out? ', 'Will the access be tracked and auditedŠwhat somebody did to what resource at what time? ', 'Will keystrokes be captured? ', 'What is the benefit of this versus using HPE MyRoom for screen sharing? ', 'Does Remote Technician make it easier to provide support dumps and logs? ', 'Is this technology unique to HPE OneViewŠhow mature is it? How many people are using it? ', 'Will Remote Technician be available for Image Streamer? ', 'Is there a terminate remote technician if something is amiss? ']\n",
      "['HPE OneView is the foundation of today™s software-defined infrastructure, helping IT administrators deploy infrastructure faster, simplify lifecycle operations, and increase productivity. IT administrators have the ability to compose any workload like code that increases agility  and enables predictability. IT administrators can connect their infrastructure from core to cloud by provisioning turnkey private cloud infrastructure, integrate with preferred platforms, and deliver projects and outcomes desired by key stakeholders. HPE OneView improves infrastructure management for the following HPE appliances: Ł Compute: HPE Synergy, HPE BladeSystem, HPE ProLiant (DL and ML), HPE Apollo Systems, HPE Superdome X, HPE Superdome Flex, and HPE Composable Cloud for ProLiant DL Ł Storage: HPE 3PAR StoreServ, HPE Nimble Storage, HPE StoreVirtual VSA, and HPE ConvergedSystem Ł Networking: HPE Networking ', 'The software-defined approach to lifecycle management in HPE OneView automates operations to reduce the cost and time to deliver IT services. This approach includes a fully programmable interface to easily create customized workflows, scripts, and configuration profiles for push-button builds that instantly deliver resources without mistakes or variations. Workflow templates capture best practices and policies to increase productivity and enable compliance and consistency. Built-in intelligence automates common IT infrastructure management tasks usually done by people, and connections to Smart Update Manager automate firmware and system software maintenance. ', 'HPE OneView provides a fast and modern user interface for users, and an open development platform using the Representational State Transfer application-programming interface (REST API). The REST API is designed for those who wish to access full power of the management architecture. A consistent API, a common data model, and a state-change message bus replace the hodgepodge approach found in traditional systems. REST APIs provide a simpler, stateless, and scalable approach, so users can easily integrate, automate, and customize on their own. Developers in the ecosystem are also interested in REST APIs because they are powerful and pervasive in today™s web-based environments. ', 'Ansible, PowerShell, Chef, Puppet, Terraform etc., are all integrations where customers can use to embed within their existing workflows, and reduce not only time to delivery, but also help avoid ﬁvendor lock-in.ﬂ For more info, refer to hpe.com/us/en/solutions/developers/ composable.html. ', 'he HPE OneView architecture has been designed to provide a resource-oriented solution that focuses on the entire hardware lifecycleŠfrom initial configuration to ongoing monitoring and maintenance of both logical resources (like server profiles, networks, and connections) and physical resources (like servers, interconnects, and enclosures). This advanced architecture connects the resources with a common representation of the servers, networks, and storage for the converged infrastructure. The powerful domain-specific representation of resources also models their associations and interdependencies, which enables each area to contribute to the  ﬁone viewﬂ of the converged infrastructure. The HPE OneView modern architecture also separates the management and data backplanes in accordance with best industry practices, which can be particularly critical in isolating your management infrastructure from security threats such as denial-of-service (DoS) attacks. ', 'HPE OneView provides a wide variety of capabilities for managing converged infrastructure, including: Ł Converged management architecture for HPE servers, storage, and network management (HPE Virtual Connect and select third-party switch platforms) Ł Software-defined control (profiles, templates, groups, and sets) Ł Open integration using the REST API and state-change message bus Ł Automated storage provisioning Ł HPE Virtual Connect (VC) management Ł Pervasive Smart Search and MapView Ł Remote management with HPE Integrated Lights Out (iLO) ', 'The HPE OneView management appliance controls licenses. The same management appliance can be used for both HPE OneView Advanced licenses and for HPE OneView Standard. This choice is made by the user when they initially add their system to the HPE OneView management appliance. Ł HPE OneView Advanced provides full-featured licenses, which can be purchased for managing Gen8, Gen9 and Gen10 servers. All  HPE OneView Advanced versions are licensed ﬁper physical server.ﬂ These licenses include three years of 24x7 Technical Support and Updates (TS&U) and access to introductory one-hour web-based training (WBT) providing an overview. Ł There are two types of HPE OneView licenses: Œ HPE OneView with iLO Advanced  Œ HPE OneView without iLO Advanced  Ł HPE OneView Standard can be used for inventory, health monitoring, alerting, and reporting without additional fees. HPE OneView Standard can monitor Gen6, Gen7, Gen8, Gen9, and Gen10 servers. The user interface is similar to the HPE OneView Advanced version, but the software-defined functionality is not available. Once deployed, both storage and servers are monitored in HPE OneView, and the storage topology is viewable in MapView. It doesn™t include Support and Updates. An annual 9x5 Support and Updates offering is available for additional fee with SKU K6F98AAE. Ł The HPE OneView management appliance controls the licenses, and it can be obtained in two ways: Œ Software download Virtual Machine Appliance(VMA) from HPE Software Depot Œ Purchase of the HPE OneView Media Kit (contains a USB flash drive) Please note that the HPE OneView licenses after applied to server(s) are not transferrable. HPE OneView Advanced management software can be used for 60 days without charge. This is a trial period, and after 60 days, customers must apply HPE OneView licenses.', 'Please refer to HPE OneView Support Matrix for a list of supported platforms. ', 'Yes, with HPE OneView, a user can create a template from an existing profile. ', 'Yes, HPE OneView supports Scope Based Access Control (SBAC) that extends the role based access control by restricting a role  (e.g., Server, Storage, or Network Admin) to operate only on a subset of resources managed by the appliance. ', 'Yes, HPE OneView support two-factor authentication using X.509-based smart cards such as those supporting the Common Access Card (CAC) and Personal Identity Verification (PIV) card standards. Additional, HPE OneView supports two-factor authentication when communicating to Gen10 iLO 5, including iLO 5™s strict two-factor modes where the use of the plain usernames/password authentication is disabled. ', 'The Service Pack for ProLiant (SPP) is a comprehensive ISO image package that includes firmware, drivers, and tools for HPE ProLiant servers and infrastructure, including a broad range of multi-generational HPE ProLiant servers. ', 'Yes, HPE OneView uses the SPPs to distribute updates and leverage System Update Manager, or SUM. ', 'Yes, HPE OneView supports external firmware repositories whose size is limited only by the space available on the remote web server. ', 'Yes, with HPE OneView you can schedule the reboot, which will activate the firmware and OS drivers. This feature is supported for Windows®, Linux®, and VMware ESXiŽ. Significantly reduce or eliminate downtime for updates with orchestrated rolling cluster updates, online BIOS and firmware updates for ProLiant, and secure iLO repository offline updates. This schedule can be cancelled or rescheduled  as needed. ', 'HPE OneView allows users to perform profile configuration changes while the server is powered on. When updating an inconsistent server profile from the template, automatic updates can be staged if the server is powered on. At the next power off initiated from HPE OneView, the user is informed of the update and can either allow the update or postpone the update. Please refer to HPE OneView documentation for more details. ', 'eeping server firmware and drivers updated can be a daunting task. HPE OneView is an Infrastructure Management tool, which automates complex activities and leverages many of the tools that HPE customers are familiar when updating firmware and drivers. Products like the Service Pack for ProLiant (SPP), System Update Manager (SUM), System Update Tool (SUT), and Agentless Management Service (AMS) are used by HPE OneView. While HPE OneView orchestrates the sequencing and installation of firmware and drivers, it relies on these HPE tools, which operate in the background determining which components to install, understanding their dependencies, installation order and providing status. Updating firmware and drivers manually is time-consuming task but HPE OneView removes the complexity required for updating servers. ', 'The update process HPE OneView utilizes is different between generations of servers (Gen8/9/10) as the update capabilities of the hardware are different. With ProLiant Gen10 and iLO 5, HPE introduced online firmware updates, which allows for firmware and drivers to be pushed to the iLO NAND for installation in real time improving the total server firmware update time required. Keep in mind that some firmware and/or drivers still require a server reboot to activate (i.e. BIOS firmware, or NIC driver), so it™s important to understand the implications of updating a server in production. Using HPE OneView with ProLiant servers, you can schedule updates to occur immediately, at a scheduled time or during next maintenance window. Updating firmware and drivers on ProLiant Gen8/9 and iLO 4 utilizes SUT to push and install updates via a different process, which can take longer. ', 'HPE OneView supports configuration of certain iLO settings as part of the Server Profile and the Server Profile template. With this release, HPE OneView adds the capability to set the iLO hostname and configure drive encryption as supported by iLO. ', 'Support for the Superdome Flex platform, including 24x7 monitoring of hardware, automatic case creation for hardware failures, and data collections to enable proactive assessments. Additionally a secondary customer email contact field was added to provide remote support push notifications. ', 'HPE OneView offers support for VMware vSphere clusters. You can intelligently manage your infrastructure as workloads by deploying, updating, and automating your clusters with cluster profiles. Edit the cluster from a single profile and view it in your HPE OneView Dashboard as a single entity. You can also employ rolling cluster updates for zero disruptions for firmware updates. Additionally, you can import existing vSphere clusters into HPE OneView. ', 'HPE OneView provides GUI views of memory DIMM slots with status of empty or populated for Gen10 systems. Memory DIMMs populated include details on memory size/type/part number information. ', 'HPE OneView can now support a pure IPv6 environment. The appliance no longer requires an IPv4 Address to be configured to the management interface. Infrastructure components, like iLO, can be configured for IPv6, either SLAAC, DHCPv6 or static assignment, and HPE OneView will utilize that address for monitoring and management. HPE OneView Remote Support now actively supports IPv6 connectivity to HPE™s data collection back end. Please refer to the HPE OneView Remote Support FAQ for more information. ', 'PE OneView 5.0 introduces an innovative concept for managing firmware compliance at scale for all Gen10 servers (racks included) as well as shared infrastructure for HPE BladeSystem and Synergy. This new approach provides a quick and easy way to identify critical security updates at scale. This feature automates compliance reporting and helps protects against configuration drift (which ensures configuration consistency across the infrastructure). Additionally, this feature allows the user to apply various filter views and export into excel and CSV formats.  Storage ', 'HPE OneView provides basic volume, path, and health management for HPE 3PAR StoreServ. ', 'HPE OneView automates HPE Nimble Storage volume provisioning via server profiles, server profile templates, volume templates, or standalone volumes. This new capability adds iSCSI storage path configuration from servers to HPE Nimble Storage volumes for boot, private data, or shared data volumes. HPE Nimble Storage Fibre Channel is also supported. This feature provides automated Fibre Channel (FC) SAN storage volume provisioning for HPE Nimble Storage systems. HPE OneView now delivers both iSCSI (v4.2 release) and Fibre Channel (v5.0 release) support for HPE Nimble Storage provisioning. Utilizing HPE OneView server profiles, users can automatically zone the FC fabric and provision HPE Nimble Storage volumes. Refer to hpe.com/storage/spock for interoperability and support requirements. ', 'If Flat SAN direct attach is used, you can use the VC uplink port utilization to see the FC bandwidth used. Improvements to end-to-end SAN fabric utilization, troubleshooting, and diagnostics are planned for a future release. This is supported with HPE 3PAR StoreServ storage systems. ', 'The Brocade FC interconnect module, is un-managed as an interconnect module in HPE OneView, however HPE OneView will manage it as part of the SAN fabric for auto-zoning when using managed SAN storage. HPE OneView will not configure the downlinks from the ICM to the server. ', 'HPE OneView is adding a new way to manage Brocade SANs, the Brocade FOS Switch that utilizes the new Brocade FOS switch REST API to manage Brocade SAS with the same auto-zoning capabilities as BNA-based management. ', 'Yes, HPE OneView supports profile-driven automated volume provisioning on HPE 3PAR, StoreVirtual, and HPE Nimble Storage systems. ', 'Yes, HPE OneView supports HPE StoreVirtual 3200 series.', 'Yes, HPE OneView provides the ability to support StoreVirtual storage systems and configure provision full/thin volumes from its storage pool. Support for Storage Volume Templates to provision volumes from StoreVirtual storage pools and set/enforce volume settings. ', 'Yes, HPE OneView provides the ability to provision and automatically zone Fibre Channel storage for DL and Apollo servers. Utilizing  HPE OneView server profiles, users manually enter HBA WWPNs in the profile and HPE OneView will automatically zone the FC fabric and provision HPE Nimble Storage or HPE 3PAR storage volumes. This data volume only. ', 'Yes, HPE OneView supports auto-zoning on Brocade SANs. This can be done via BNA or HPE OneView communicating directly with the switches using the FOS SAN manager. Networking and Virtual Connect ', 'Yes, HPE OneView supports migration of Virtual Connect Manager to HPE OneView without the need to power off servers. Customers are encouraged to complete their migrations, as this feature may not be included in future HPE OneView releases. ', 'HPE OneView supports eight physical functions. Refer to HPE OneView Support Matrix for more information regarding capable adapters. ', 'he IMC HPE OneView Management Module monitors HPE OneView for new changes (that is, a new Enclosure is added to the  HPE OneView appliance) and will assist with configuring the connected upstream Ethernet switch(es). ', 'Yes, HPE OneView now enables downlink connection provisioning for Cisco Fabric Extender modules when paired with Cisco Nexus 5000 and 6000 Switch Series in addition to monitoring functions provided in previous release. HPE requires purchase of one of the following SKUs to manage their B22HP interconnect modules: Ł HPE OneView 3yr 24x7 Support for Cisco B22HP Fabric Extender LTU Ł HPE OneView 3yr 24x7 Support for Cisco B22HP Fabric Extender E-LTU ', 'LACP on s-channels (Synergy only)Šwhen combined with MLAG on uplink ports, provides true end-to-end link aggregation from the compute node to the upstream network infrastructure. ', 'Smart Link and non-redundant configurationsŠFor VC on c7000, an Active/Active configuration is an Ethernet network configuration that allows active traffic on the same VLAN to egress multiple VC interconnect modules and provides full use of all uplink ports (no uplink port in standby mode), doubles the available bandwidth while maintaining redundancy. ', 'HPE OneView and Virtual Connect are compatible with HPE upstream switches. HPE OneView does not actively monitor or manage  HPE upstream switches at this time. ', 'Yes, HPE OneView provides monitoring of power and state of selected Cisco 5K/6K models. It provides monitoring of vPC stacking  (ports and health) and monitoring and configuration of switch internal ports. ', 'Yes, HPE OneView HPE OneView 4.2 and above will monitor Arista Leaf ToR switches and model them as part of the Logical Switch resource. It will display physical switch and port attributes, such as switch model, and health information, as well as, LLDP neighbor data, connector info and per port statistical information. HPE OneView will configure Synergy ICM and compute profile connectivity while simultaneously provisioning corresponding VLANs to the Arista ToR ports connected to the Synergy ICMs.', 'A growing list of ISV partners is taking advantage of the unified API in HPE OneView. These integration partners range from large software suites like VMware vCenter® and Microsoft System Center to focused solution providers like ABB, Ansible, Arista, CANCOM, Chef, Densify, Docker, F5, Harpa Italia, Mesosphere, Micro Focus, Morpheus, Nlyte, Puppet, Red Hat®, SUSE, Turbonomic, Schneider Electric, ServiceNow, Terraform, and others. With integrations built by these partners, you no longer have to spend valuable time on writing, debugging, and updating custom scripts. Refer to hpe.com/info/composableprogram. ', 'HPE OneView for Microsoft System Center is a collection of extensions that expose HPE management features within the context of the System Center consoles (System Center Virtual Machine Manager [SCVMM], System Center Operations Manager [SCOM], and System Center Configuration Manager [SCCM]). This integration provides functionality such as comprehensive system health and alerting, driver and firmware updates, OS deployment, detailed inventory, enhanced provisioning (integrated with HPE OneView server profiles), and  HPE fabric visualization. HPE OneView for Microsoft System Center integration includes SCVMM capabilities for server-profile-based deployment and cluster expansion, cluster and HPE 3PAR storage views. More information can be found at hpe.com/products/ovsc. HPE OneView for Microsoft Azure Log Analytics provides a bridge between Microsoft cloud management services and HPE hardware infrastructure. It allows you to manage on-premises HPE infrastructure with the same Microsoft tools used for cloud services. HPE OneView for Microsoft Azure Log Analytics brings visibility of the underlying HPE infrastructure, including hardware and firmware inventory, infrastructure health and status, and long term event correlation and trend analysis. Data is automatically collected from HPE OneView and processed using the Azure Log Analytics engine running in the Azure public cloud. More information can be found at hpe.com/products/ov4la. ', 'HPE OneView for VMware vCenter, vRealize® Operations ManagerŽ and VMware vRealize® Log InsightŽ seamlessly integrates the manageability features of HPE Synergy, ProLiant, BladeSystem, Virtual Connect, and Storage with VMware solutions. This provides deep insight and control of virtualized HPE Converged Infrastructure environments while reducing the time it takes to make important changes, increasing capacity or manage planned and unplanned downtime. VMware vCenter Operations Manager and Log Insight integrations deliver powerful analytics and deeper troubleshooting tools to your VMware administrators. HPE OneView for VMware vRealize® OrchestratorŽ or helps customers automate complex IT tasks in an extensible and repeatable manner. It provides a predefined collection of HPE tasks and workflows that can be used in vRealize Orchestrator (VRO), with easy-to-use, drag and drop access to automation of HPE OneView managed hardware deployment, firmware updates, and other lifecycle tasks. HPE OneView for VMware vRealize Orchestrator allows the advanced management features of HPE OneView to be incorporated into larger IT workflows.  HPE OneView workflows and actions can also be integrated in VMware vRealize® AutomationŽ via vRealize Orchestrator. More information can be found at hpe.com/products/ovvcenter. ', 'Partner integrations are licensed with both HPE OneView and HPE Synergy. Basic functionality for monitoring and health are supported with HPE OneView Standard licenses. All other advanced functionality requires HPE OneView Advanced licenses. ', 'It is delivered as a virtual appliance running in a VMware ESXi, Microsoft Hyper-V, or KVM virtual machine. The appliance is ﬁOS-agnosticﬂŠfor example, it can manage servers running both Windows and Linux operating systems. Appliance upgrade support is also provided to help existing users to move to the current version of HPE OneView. HPE OneView is also delivered as a hardware appliance running on HPE Synergy Composer. ', 'Yes, managing HPE servers with HPE OneView is intended to replace the capabilities found in HPE Systems Insight Manager (SIM),  HPE Insight Control, and HPE Virtual Connect Enterprise Manager (VCEM). You can evaluate when the best meets the needs for your business environment. ', 'HPE SIM End-of-Life (EOL) is under investigation.', 'Upgrades to HPE OneView Advanced are available from HPE iLO Advanced, HPE Insight Control, and HPE VCEM, with the expectation that the user has maintained current HPE product support (TS&U). ', 'HPE OneView Advanced licenses include three years of 24x7 Technical Support and Updates (TS&U) for global support of your product. Annual 9x5 support is optionally available for HPE OneView Standard for an additional fee. HPE also offers uplifted support services for additional fees: Proactive Care, Proactive Care Advanced, and Datacenter Care, along with extended terms of 4 and 5 years. HPE Startup Installation and Configuration Services and HPE Installation and Migration Services are additionally available. HPE classes are also offered to make you more effective at work. Further technical consulting is available upon request. For more info, see hpe.com/info/services. ', 'The HPE OneView instructor led course (Course ID H4C04S) is essential training for System, Network, and Storage administrators using HPE OneView and for System architects anticipating the implementation of HPE OneView into their converged infrastructure. Your purchase of HPE OneView Advanced also entitles you access to the HPE OneView Overview (Course ID H4C04AAE), an hour of self-paced web-based training (WBT). To redeem your WBT course, visit hpe.com/ww/oneviewbundle. HPE recommends at least 3  HPE Training Credits for ProLiant/Hybrid Cloud (SKU# HF385E or HF385A1) per student seat with every HPE OneView solution. Ł One unit of HF385E/HF385A1 HPE Education Training Credit will cover one day of training per student. Ł Specific training recommendations for a given client will vary depending on the customer™s existing knowledge and experience. Ł HF385A1/E HPE Training Credits for ProLiant/Hybrid Cloud Services, Quantity = 3 units per student. Book on a class today and learn how to get the most from your technology investment hpe.com/ww/learn. Global Dashboard ', 'HPE OneView Global Dashboard provides a RESTful API that allows users to write scripts to easily access inventory, health status, and alerting information consolidated from HPE OneView appliances, HPE Synergy, and HPE SimpliVity systems. ', 'HPE OneView Global Dashboard provides customers with a unified view of the health of their servers, profiles, and enclosures across multiple virtual and physical appliances managing up to 75 appliances, 25 HPE SimpliVity systems, and 150 HC380 instances. ', 'HPE OneView Global Dashboard supports HPE BladeSystem c-Class, HPE ProLiant DL, HPE Synergy, HPE Hyper Converged 380,  HPE SimpliVity 380, HPE Nimble Storage, HPE Apollo, HPE ML, HPE Composable Cloud for DL and HPE Superdome X, and Superdome FLEX systems. ', 'HPE OneView Global Dashboard is delivered as a separate virtual appliance. The right to use is included with the HPE OneView Advanced license, HPE Synergy, HC380, and HPE SimpliVity systems. ', 'After running a report, you can schedule it to automatically run in the future, starting with HPE OneView Global Dashboard 1.5. ', 'HPE OneView Global Dashboard provides a License report that enables users to track HPE OneView license assignment across multiple appliances and data centers. ', 'Users can access HPE OneView Global Dashboard and HPE OneView appliances on IPv6 network. ', 'Yes with the latest release of HPE OneView Global Dashboard users can view interconnect inventory and health status. ', 'Yes, HPE OneView Global Dashboard displays remote support status for Enclosures, Server Hardware, and Interconnects.', 'No, Remote Technician works through a different secure communication channel to HPE, and does not require Remote Support to be enabled. ', 'No, all you need is a warranty or support contract. This is needed to open a support case. There is no charge for Remote Technician. ', 'Yes, a support case is needed to log details of your issue. ', 'For HPE Remote Technician, the TLS connection uses port 443. A Proxy server is required for Remote Technician until a future release. There should be no restrictions on the proxy or firewall, which will block traffic to the DNS A record (midway.ext.hpe.com/home/) or to any  of the IP addresses of the 7 production midways. (Some customers may have rules restricting traffic only to specific hostnames and not to  IP address.) ', 'Currently, it™s not possible to set a time limit on a session. This is being considered for a future release. You can terminate a session at any time from within HPE OneView. ', 'Once the remote technician has logged into your HPE OneView instance, all their actions will be recorded in the audit log just as they would with any of your employees. ', 'The only auditing available today is via the standard audit log. ', 'With HPE OneView Remote Technician, you don™t have to be present or involved. You can allow your trusted technician, subject to your security authorizations/policies, to troubleshoot and resolve issues while you get on with meetings or while it is after hours for you. The technician can quickly reproduce issues in your HPE OneView instance, as they are actually experiencing the issues for themselves. ', 'es, the Technician can get the support dump and logs directly from your HPE OneView instance, saving you from having to go through that process. ', 'No, this technology has been in use for many years for other HPE products including HPE StoreServ products. ', 'This is planned for a future release. ', 'Yes, within HPE OneView there is an option for the customer to immediately disconnect a remote technician session. Learn more at hpe.com/info/hpeoneview  ']\n"
     ]
    }
   ],
   "source": [
    "print(questions)\n",
    "print(answers)"
   ]
  },
  {
   "cell_type": "code",
   "execution_count": 46,
   "metadata": {},
   "outputs": [
    {
     "name": "stdout",
     "output_type": "stream",
     "text": [
      "Word count:  541\n"
     ]
    }
   ],
   "source": [
    "# Read text from Documents\n",
    "# Tokenize data\n",
    "\n",
    "words = []\n",
    "doc_text = []\n",
    "stop_words = set(stopwords.words('english'))\n",
    "\n",
    "\n",
    "for q in questions:\n",
    "    \n",
    "    \n",
    "    # Tokenize\n",
    "    \n",
    "    tokens = word_tokenize(q)\n",
    "    \n",
    "    # Stop word removal\n",
    "    \n",
    "    filtered_words = [w for w in tokens if not w in stop_words]\n",
    "    \n",
    "    new_words = []\n",
    "    ps = PorterStemmer() \n",
    "    for w in filtered_words:\n",
    "        if len(w) != 1:\n",
    "            new_words.append(ps.stem(w))\n",
    "    doc_text.append(new_words)\n",
    "    \n",
    "    for w in new_words:\n",
    "        words.append(w)\n",
    "        \n",
    "print('Word count: ', len(words))"
   ]
  },
  {
   "cell_type": "code",
   "execution_count": 47,
   "metadata": {},
   "outputs": [
    {
     "name": "stdout",
     "output_type": "stream",
     "text": [
      "Word frequency: \n",
      "\n",
      "Counter({'hpe': 63, 'oneview': 49, 'support': 29, 'doe': 24, 'what': 20, 'how': 12, 'manag': 11, 'can': 10, 'remot': 9, 'global': 8, 'dashboard': 8, 'use': 7, 'technician': 6, 'Is': 5, 'firmwar': 5, 'integr': 4, 'tool': 4, 'licens': 4, 'server': 4, 'access': 4, 'updat': 4, 'driver': 4, 'configur': 4, 'san': 4, 'custom': 3, 'exist': 3, 'provid': 3, '5.0': 3, 'profil': 3, 'spp': 3, 'extern': 3, 'storag': 3, 'brocad': 3, 'autom': 3, 'need': 3, 'switch': 3, 'advanc': 3, 'insight': 3, 'avail': 3, 'will': 3, 'environ': 2, 'offer': 2, 'control': 2, 'schedul': 2, 'inventori': 2, 'ipv6': 2, 'FC': 2, 'data': 2, 'volum': 2, 'provis': 2, 'storevirtu': 2, 'virtual': 2, 'connect': 2, 'mani': 2, 'interconnect': 2, 'modul': 2, 'top-of-rack': 2, 'tor': 2, 'microsoft': 2, 'plug-in': 2, 'releas': 2, 'vmware': 2, 'deliv': 2, 'system': 2, 'enterpris': 2, 'statu': 2, 'track': 2, 'requir': 2, 'time': 2, 'advantag': 1, 'software-defin': 1, 'approach': 1, 'lifecycl': 1, 'function': 1, 'kit': 1, 'wish': 1, 'develop': 1, 'refresh': 1, 'infrastructur': 1, 'brand-new': 1, 'design': 1, 'capabl': 1, 'platform': 1, 'creat': 1, 'templat': 1, 'granular': 1, 'two-factor': 1, 'authent': 1, 'repositori': 1, 'store': 1, 'activ': 1, 'OS': 1, 'allow': 1, 'onlin': 1, 'chang': 1, 'handl': 1, 'ilo': 1, 'set': 1, 'latest': 1, 'enhanc': 1, 'kind': 1, 'cluster': 1, 'view': 1, 'dimm': 1, 'complianc': 1, 'check': 1, '3par': 1, 'storeserv': 1, 'nimbl': 1, 'If': 1, 'flat': 1, 'see': 1, 'bandwidth': 1, 'usag': 1, 'icm': 1, 'zone': 1, 'bna': 1, 'go': 1, 'away': 1, '3200': 1, 'seri': 1, 'node': 1, 'dl/apollo': 1, 'migrat': 1, 'without': 1, 'power': 1, 'flexnic/flexhba': 1, 'per': 1, 'port': 1, 'flexfabr': 1, 'imc': 1, 'b22hp': 1, 'fex': 1, 'lacp': 1, 's-channel': 1, 'active/act': 1, 'work': 1, 'done': 1, 'today': 1, 'term': 1, 'cisco': 1, 'arista': 1, 'compos': 1, 'ecosystem': 1, 'program': 1, 'partner': 1, 'replac': 1, 'long': 1, 'hewlett': 1, 'packard': 1, 'current': 1, 'sim': 1, 'product': 1, 'are': 1, 'upgrad': 1, 'softwar': 1, 'servic': 1, 'get': 1, 'train': 1, 'user': 1, 'health': 1, 'inform': 1, 'consolid': 1, 'api': 1, 'help': 1, 'scale': 1, 'report': 1, 'assign': 1, 'across': 1, 'center': 1, 'display': 1, 'charg': 1, 'case': 1, 'Do': 1, 'add': 1, 'firewal': 1, 'rule': 1, 'time-box': 1, 'auditedšwhat': 1, 'somebodi': 1, 'resourc': 1, 'keystrok': 1, 'captur': 1, 'benefit': 1, 'versu': 1, 'myroom': 1, 'screen': 1, 'share': 1, 'make': 1, 'easier': 1, 'dump': 1, 'log': 1, 'technolog': 1, 'uniqu': 1, 'oneviewšhow': 1, 'matur': 1, 'peopl': 1, 'imag': 1, 'streamer': 1, 'termin': 1, 'someth': 1, 'amiss': 1})\n"
     ]
    }
   ],
   "source": [
    "# Word frequency\n",
    "\n",
    "frequency = Counter(words)\n",
    "print('Word frequency: \\n')\n",
    "print(frequency)"
   ]
  },
  {
   "cell_type": "code",
   "execution_count": 21,
   "metadata": {},
   "outputs": [],
   "source": [
    "# Cosine similarity\n",
    "\n",
    "WORD = re.compile(r'\\w+')\n",
    "\n",
    "# Calculate the cosine similarity between the two vectors\n",
    "# Parameters:\n",
    "#     vec1: Vector 1\n",
    "#     vec2: Vector 2\n",
    "# Return: \n",
    "#     Cosine similarity value\n",
    "def get_cosine(vec1, vec2):\n",
    "    \n",
    "    intersection = set(vec1.keys()) & set(vec2.keys())\n",
    "    numerator = sum([vec1[x] * vec2[x] for x in intersection])\n",
    "\n",
    "    sum1 = sum([vec1[x]**2 for x in vec1.keys()])\n",
    "    sum2 = sum([vec2[x]**2 for x in vec2.keys()])\n",
    "    denominator = math.sqrt(sum1) * math.sqrt(sum2)\n",
    "\n",
    "    if not denominator:\n",
    "        return 0.0\n",
    "    else:\n",
    "        return float(numerator) / denominator\n",
    "\n",
    "# Vectorize words\n",
    "# Parameters:\n",
    "#     text: Text data\n",
    "# Return:\n",
    "#     Text vector\n",
    "def text_to_vector(text):\n",
    "    \n",
    "    words = WORD.findall(text)\n",
    "    return Counter(words)"
   ]
  },
  {
   "cell_type": "code",
   "execution_count": 84,
   "metadata": {},
   "outputs": [
    {
     "name": "stdout",
     "output_type": "stream",
     "text": [
      "['spp', 'stand']\n"
     ]
    }
   ],
   "source": [
    "userQUERY = \"SPP stands for?\"\n",
    "QUERY = userQUERY.replace(\"?\", \"\").split(\" \")\n",
    "filtered_query = [ps.stem(w) for w in QUERY if not w in stop_words]\n",
    "print(filtered_query)"
   ]
  },
  {
   "cell_type": "code",
   "execution_count": 85,
   "metadata": {},
   "outputs": [
    {
     "name": "stdout",
     "output_type": "stream",
     "text": [
      "Maximum Value:  0.4999999999999999 \n",
      "\n",
      "Q.  SPP stands for?\n",
      "A.  The Service Pack for ProLiant (SPP) is a comprehensive ISO image package that includes firmware, drivers, and tools for HPE ProLiant servers and infrastructure, including a broad range of multi-generational HPE ProLiant servers. \n"
     ]
    }
   ],
   "source": [
    "cosine_similarities = {}\n",
    "\n",
    "for idx, data in enumerate(doc_text):\n",
    "    \n",
    "    data = ' '.join(data)\n",
    "    \n",
    "    vector1 = text_to_vector(\" \".join(filtered_query))\n",
    "    vector2 = text_to_vector(data)\n",
    "    \n",
    "    cosine_similarities[idx] = get_cosine(vector1, vector2)\n",
    "\n",
    "    \n",
    "key_max = max(cosine_similarities.keys(), key=(lambda k: cosine_similarities[k]))\n",
    "\n",
    "print('Maximum Value: ', cosine_similarities[key_max], '\\n')\n",
    "print(\"Q. \", userQUERY)\n",
    "\n",
    "if(cosine_similarities[key_max] < 0.4):\n",
    "    print(\"A. \", \"Kindly be more precise.\")\n",
    "else:\n",
    "    print(\"A. \", answers[key_max])"
   ]
  }
 ],
 "metadata": {
  "kernelspec": {
   "display_name": "Python 3",
   "language": "python",
   "name": "python3"
  },
  "language_info": {
   "codemirror_mode": {
    "name": "ipython",
    "version": 3
   },
   "file_extension": ".py",
   "mimetype": "text/x-python",
   "name": "python",
   "nbconvert_exporter": "python",
   "pygments_lexer": "ipython3",
   "version": "3.7.1"
  }
 },
 "nbformat": 4,
 "nbformat_minor": 2
}
